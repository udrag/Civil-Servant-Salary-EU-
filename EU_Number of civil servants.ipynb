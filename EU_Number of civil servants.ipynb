{
 "cells": [
  {
   "cell_type": "markdown",
   "source": [
    "# Project name: Civil Servants Remuneration in the EU\n",
    "## Part 3: EU Civil Servant number of civil servants employed\n",
    "### Step 1: Data wrangling"
   ],
   "metadata": {
    "collapsed": false,
    "pycharm": {
     "name": "#%% md\n"
    }
   }
  },
  {
   "cell_type": "markdown",
   "source": [
    "LAST UPDATE: 22.08.22 17:37:26\n",
    "EXTRACTION DATE: 29.08.22 11:31:53\n",
    "SOURCE OF DATA: Eurostat\n",
    "\n",
    "### Column names and description of the values it holds\n",
    "TIME: Year\n",
    "\n",
    "GEO: Country name\n",
    "\n",
    "STATINFO: Term to represent data coverage (Total)\n",
    "\n",
    "UNIT: Term to represent the value (Number)\n",
    "\n",
    "VALUE: Represent the total number of civil servant employees"
   ],
   "metadata": {
    "collapsed": false,
    "pycharm": {
     "name": "#%% md\n"
    }
   }
  },
  {
   "cell_type": "markdown",
   "source": [
    "# Data Gathering\n",
    "\n",
    "The cells below contain the wrangling process of the data related to the total number of the EU civil servants."
   ],
   "metadata": {
    "collapsed": false,
    "pycharm": {
     "name": "#%% md\n"
    }
   }
  },
  {
   "cell_type": "code",
   "execution_count": 304,
   "outputs": [],
   "source": [
    "# import relevant libraries\n",
    "import pandas as pd"
   ],
   "metadata": {
    "collapsed": false,
    "pycharm": {
     "name": "#%%\n"
    }
   }
  },
  {
   "cell_type": "code",
   "execution_count": 305,
   "outputs": [],
   "source": [
    "# load the data\n",
    "df_number = pd.read_csv('/Users/home/Documents/GitHub/Civil_Servant_Salary_EU/original_data/3. National civil servants in central public administration [prc_rem_nr].csv')"
   ],
   "metadata": {
    "collapsed": false,
    "pycharm": {
     "name": "#%%\n"
    }
   }
  },
  {
   "cell_type": "code",
   "execution_count": 306,
   "outputs": [
    {
     "data": {
      "text/plain": "     TIME                                               GEO STATINFO    UNIT  \\\n0  2012S2                                           Belgium    Total  Number   \n1  2012S2                                          Bulgaria    Total  Number   \n2  2012S2                                           Czechia    Total  Number   \n3  2012S2                                           Denmark    Total  Number   \n4  2012S2  Germany (until 1990 former territory of the FRG)    Total  Number   \n\n    Value  \n0  34,697  \n1  45,114  \n2  19,163  \n3   7,832  \n4  13,280  ",
      "text/html": "<div>\n<style scoped>\n    .dataframe tbody tr th:only-of-type {\n        vertical-align: middle;\n    }\n\n    .dataframe tbody tr th {\n        vertical-align: top;\n    }\n\n    .dataframe thead th {\n        text-align: right;\n    }\n</style>\n<table border=\"1\" class=\"dataframe\">\n  <thead>\n    <tr style=\"text-align: right;\">\n      <th></th>\n      <th>TIME</th>\n      <th>GEO</th>\n      <th>STATINFO</th>\n      <th>UNIT</th>\n      <th>Value</th>\n    </tr>\n  </thead>\n  <tbody>\n    <tr>\n      <th>0</th>\n      <td>2012S2</td>\n      <td>Belgium</td>\n      <td>Total</td>\n      <td>Number</td>\n      <td>34,697</td>\n    </tr>\n    <tr>\n      <th>1</th>\n      <td>2012S2</td>\n      <td>Bulgaria</td>\n      <td>Total</td>\n      <td>Number</td>\n      <td>45,114</td>\n    </tr>\n    <tr>\n      <th>2</th>\n      <td>2012S2</td>\n      <td>Czechia</td>\n      <td>Total</td>\n      <td>Number</td>\n      <td>19,163</td>\n    </tr>\n    <tr>\n      <th>3</th>\n      <td>2012S2</td>\n      <td>Denmark</td>\n      <td>Total</td>\n      <td>Number</td>\n      <td>7,832</td>\n    </tr>\n    <tr>\n      <th>4</th>\n      <td>2012S2</td>\n      <td>Germany (until 1990 former territory of the FRG)</td>\n      <td>Total</td>\n      <td>Number</td>\n      <td>13,280</td>\n    </tr>\n  </tbody>\n</table>\n</div>"
     },
     "execution_count": 306,
     "metadata": {},
     "output_type": "execute_result"
    }
   ],
   "source": [
    "# view data\n",
    "df_number.head()"
   ],
   "metadata": {
    "collapsed": false,
    "pycharm": {
     "name": "#%%\n"
    }
   }
  },
  {
   "cell_type": "code",
   "execution_count": 307,
   "outputs": [
    {
     "name": "stdout",
     "output_type": "stream",
     "text": [
      "<class 'pandas.core.frame.DataFrame'>\n",
      "RangeIndex: 280 entries, 0 to 279\n",
      "Data columns (total 5 columns):\n",
      " #   Column    Non-Null Count  Dtype \n",
      "---  ------    --------------  ----- \n",
      " 0   TIME      280 non-null    object\n",
      " 1   GEO       280 non-null    object\n",
      " 2   STATINFO  280 non-null    object\n",
      " 3   UNIT      280 non-null    object\n",
      " 4   Value     280 non-null    object\n",
      "dtypes: object(5)\n",
      "memory usage: 11.1+ KB\n"
     ]
    }
   ],
   "source": [
    "# check the datatypes\n",
    "df_number.info()"
   ],
   "metadata": {
    "collapsed": false,
    "pycharm": {
     "name": "#%%\n"
    }
   }
  }
 ],
 "metadata": {
  "kernelspec": {
   "display_name": "Python 3",
   "language": "python",
   "name": "python3"
  },
  "language_info": {
   "codemirror_mode": {
    "name": "ipython",
    "version": 2
   },
   "file_extension": ".py",
   "mimetype": "text/x-python",
   "name": "python",
   "nbconvert_exporter": "python",
   "pygments_lexer": "ipython2",
   "version": "2.7.6"
  }
 },
 "nbformat": 4,
 "nbformat_minor": 0
}