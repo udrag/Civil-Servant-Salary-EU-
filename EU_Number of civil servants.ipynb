{
 "cells": [
  {
   "cell_type": "markdown",
   "source": [
    "# Project name: Civil Servants Remuneration in the EU\n",
    "## Part 3: EU Civil Servant number of civil servants employed\n",
    "### Step 1: Data wrangling"
   ],
   "metadata": {
    "collapsed": false,
    "pycharm": {
     "name": "#%% md\n"
    }
   }
  },
  {
   "cell_type": "markdown",
   "source": [
    "LAST UPDATE: 22.08.22 17:37:26\n",
    "EXTRACTION DATE: 29.08.22 11:31:53\n",
    "SOURCE OF DATA: Eurostat\n",
    "\n",
    "### Column names and description of the values it holds\n",
    "TIME: Year\n",
    "\n",
    "GEO: Country name\n",
    "\n",
    "STATINFO: Term to represent data coverage (Total)\n",
    "\n",
    "UNIT: Term to represent the value (Number)\n",
    "\n",
    "VALUE: Represent the total number of civil servant employees"
   ],
   "metadata": {
    "collapsed": false,
    "pycharm": {
     "name": "#%% md\n"
    }
   }
  },
  {
   "cell_type": "markdown",
   "source": [
    "# Data Gathering\n",
    "\n",
    "The cells below contain the wrangling process of the data related to the total number of the EU civil servants."
   ],
   "metadata": {
    "collapsed": false,
    "pycharm": {
     "name": "#%% md\n"
    }
   }
  },
  {
   "cell_type": "code",
   "execution_count": 304,
   "outputs": [],
   "source": [
    "# import relevant libraries\n",
    "import pandas as pd"
   ],
   "metadata": {
    "collapsed": false,
    "pycharm": {
     "name": "#%%\n"
    }
   }
  },
  {
   "cell_type": "code",
   "execution_count": 305,
   "outputs": [],
   "source": [
    "# load the data\n",
    "df_number = pd.read_csv('/Users/home/Documents/GitHub/Civil_Servant_Salary_EU/original_data/3. National civil servants in central public administration [prc_rem_nr].csv')"
   ],
   "metadata": {
    "collapsed": false,
    "pycharm": {
     "name": "#%%\n"
    }
   }
  },
  {
   "cell_type": "code",
   "execution_count": 306,
   "outputs": [
    {
     "data": {
      "text/plain": "     TIME                                               GEO STATINFO    UNIT  \\\n0  2012S2                                           Belgium    Total  Number   \n1  2012S2                                          Bulgaria    Total  Number   \n2  2012S2                                           Czechia    Total  Number   \n3  2012S2                                           Denmark    Total  Number   \n4  2012S2  Germany (until 1990 former territory of the FRG)    Total  Number   \n\n    Value  \n0  34,697  \n1  45,114  \n2  19,163  \n3   7,832  \n4  13,280  ",
      "text/html": "<div>\n<style scoped>\n    .dataframe tbody tr th:only-of-type {\n        vertical-align: middle;\n    }\n\n    .dataframe tbody tr th {\n        vertical-align: top;\n    }\n\n    .dataframe thead th {\n        text-align: right;\n    }\n</style>\n<table border=\"1\" class=\"dataframe\">\n  <thead>\n    <tr style=\"text-align: right;\">\n      <th></th>\n      <th>TIME</th>\n      <th>GEO</th>\n      <th>STATINFO</th>\n      <th>UNIT</th>\n      <th>Value</th>\n    </tr>\n  </thead>\n  <tbody>\n    <tr>\n      <th>0</th>\n      <td>2012S2</td>\n      <td>Belgium</td>\n      <td>Total</td>\n      <td>Number</td>\n      <td>34,697</td>\n    </tr>\n    <tr>\n      <th>1</th>\n      <td>2012S2</td>\n      <td>Bulgaria</td>\n      <td>Total</td>\n      <td>Number</td>\n      <td>45,114</td>\n    </tr>\n    <tr>\n      <th>2</th>\n      <td>2012S2</td>\n      <td>Czechia</td>\n      <td>Total</td>\n      <td>Number</td>\n      <td>19,163</td>\n    </tr>\n    <tr>\n      <th>3</th>\n      <td>2012S2</td>\n      <td>Denmark</td>\n      <td>Total</td>\n      <td>Number</td>\n      <td>7,832</td>\n    </tr>\n    <tr>\n      <th>4</th>\n      <td>2012S2</td>\n      <td>Germany (until 1990 former territory of the FRG)</td>\n      <td>Total</td>\n      <td>Number</td>\n      <td>13,280</td>\n    </tr>\n  </tbody>\n</table>\n</div>"
     },
     "execution_count": 306,
     "metadata": {},
     "output_type": "execute_result"
    }
   ],
   "source": [
    "# view data\n",
    "df_number.head()"
   ],
   "metadata": {
    "collapsed": false,
    "pycharm": {
     "name": "#%%\n"
    }
   }
  },
  {
   "cell_type": "code",
   "execution_count": 307,
   "outputs": [
    {
     "name": "stdout",
     "output_type": "stream",
     "text": [
      "<class 'pandas.core.frame.DataFrame'>\n",
      "RangeIndex: 280 entries, 0 to 279\n",
      "Data columns (total 5 columns):\n",
      " #   Column    Non-Null Count  Dtype \n",
      "---  ------    --------------  ----- \n",
      " 0   TIME      280 non-null    object\n",
      " 1   GEO       280 non-null    object\n",
      " 2   STATINFO  280 non-null    object\n",
      " 3   UNIT      280 non-null    object\n",
      " 4   Value     280 non-null    object\n",
      "dtypes: object(5)\n",
      "memory usage: 11.1+ KB\n"
     ]
    }
   ],
   "source": [
    "# check the datatypes\n",
    "df_number.info()"
   ],
   "metadata": {
    "collapsed": false,
    "pycharm": {
     "name": "#%%\n"
    }
   }
  },
  {
   "cell_type": "code",
   "execution_count": 308,
   "outputs": [
    {
     "name": "stdout",
     "output_type": "stream",
     "text": [
      "TIME:\n",
      "['2012S2' '2013S2' '2014S2' '2015S2' '2016S2' '2017S2' '2018S2' '2019S2'\n",
      " '2020S2' '2021S2']\n",
      "\n",
      "\n",
      "GEO:\n",
      "['Belgium' 'Bulgaria' 'Czechia' 'Denmark'\n",
      " 'Germany (until 1990 former territory of the FRG)' 'Estonia' 'Ireland'\n",
      " 'Greece' 'Spain' 'France' 'Croatia' 'Italy' 'Cyprus' 'Latvia' 'Lithuania'\n",
      " 'Luxembourg' 'Hungary' 'Malta' 'Netherlands' 'Austria' 'Poland'\n",
      " 'Portugal' 'Romania' 'Slovenia' 'Slovakia' 'Finland' 'Sweden'\n",
      " 'United Kingdom']\n",
      "\n",
      "\n",
      "STATINFO:\n",
      "['Total']\n",
      "\n",
      "\n",
      "UNIT:\n",
      "['Number']\n",
      "\n",
      "\n",
      "Value:\n",
      "['34,697' '45,114' '19,163' '7,832' '13,280' '15,200' '24,077' '69,993'\n",
      " '34,897' '77,774' ':' '166,420' '13,525' '2,973' '16,368' '946' '11,694'\n",
      " '23,865' '110,887' '48,734' '128,596' '118,552' '12,221' '21,149'\n",
      " '33,778' '24,974' '60,224' '350,990' '28,681' '36,788' '18,806' '12,980'\n",
      " '10,081' '24,286' '58,300' '42,382' '73,837' '159,674' '9,590' '2,904'\n",
      " '16,951' '984' '12,403' '24,511' '109,098' '19,996' '127,622' '92,391'\n",
      " '13,191' '17,872' '62,465' '337,570' '31,297' '34,718' '17,691' '12,376'\n",
      " '9,360' '24,420' '66,857' '41,590' '78,182' '11,537' '155,482' '8,992'\n",
      " '3,041' '16,627' '986' '14,287' '25,273' '108,732' '20,566' '22,455'\n",
      " '89,152' '36,130' '62,215' '310,600' '28,425' '33,536' '18,558' '15,437'\n",
      " '6,934' '24,597' '67,947' '40,173' '28,743' '12,321' '153,261' '8,758'\n",
      " '4,393' '16,143' '966' '14,727' '109,389' '20,519' '22,358' '103,460'\n",
      " '18,980' '36,553' '33,386' '63,694' '317,580' '25,653' '34,921' '19,074'\n",
      " '15,750' '6,765' '25,567' '70,560' '39,119' '28,684' '149,715' '8,728'\n",
      " '4,266' '15,619' '958' '16,955' '109,053' '20,393' '22,156' '95,335'\n",
      " '18,988' '36,411' '28,948' '61,052' '307,850' '23,958' '35,642' '19,003'\n",
      " '11,155' '16,790' '6,634' '26,250' '36,864' '27,306' '12,407' '144,817'\n",
      " '8,615' '4,216' '15,133' '970' '14,236' '109,251' '18,987' '22,119'\n",
      " '96,760' '19,369' '28,704' '63,396' '417,925' '10,719' '36,218' '20,995'\n",
      " '10,577' '17,042' '6,508' '28,091' '75,905' '36,707' '263,200' '14,164'\n",
      " '141,977' '8,551' '16,480' '13,968' '938' '14,867' '118,251' '18,443'\n",
      " '22,473' '99,896' '19,854' '37,306' '29,064' '66,535' '419,399' '11,389'\n",
      " '37,010' '21,672' '11,493' '18,383' '6,459' '29,393' '75,112' '36,981'\n",
      " '263,849' '14,907' '134,374' '8,617' '13,606' '13,933' '15,042' '27,852'\n",
      " '121,291' '16,863' '22,719' '101,104' '19,945' '29,003' '66,409'\n",
      " '429,989' '14,321' '35,470' '21,901' '12,197' '6,424' '29,342' '74,661'\n",
      " '37,290' '264,104' '12,211' '132,280' '8,746' '13,659' '13,597' '3,481'\n",
      " '15,049' '28,476' '127,073' '15,691' '24,066' '102,555' '20,370' '32,231'\n",
      " '30,222' '68,358' '430,190' '17,615' '36,068' '21,889' '11,816' '24,224'\n",
      " '6,333' '30,369' '73,242' '37,685' '260,626' '12,632' '124,851' '10,193'\n",
      " '14,091' '13,977' '4,011' '15,084' '29,068' '135,437' '14,892' '24,161'\n",
      " '106,563' '436' '20,428' '31,716' '69,256']\n",
      "\n",
      "\n"
     ]
    }
   ],
   "source": [
    "# view unique values in each column\n",
    "def uniq_val(column_name = ''):\n",
    "    print(df_number[column_name].unique())\n",
    "for column in df_number.columns:\n",
    "    print(column + ':')\n",
    "    uniq_val(column)\n",
    "    print('\\n')"
   ],
   "metadata": {
    "collapsed": false,
    "pycharm": {
     "name": "#%%\n"
    }
   }
  },
  {
   "cell_type": "code",
   "execution_count": 309,
   "outputs": [],
   "source": [
    "# drop the redundant columns\n",
    "df_number.drop(columns=['STATINFO', 'UNIT'], axis=1, inplace=True)"
   ],
   "metadata": {
    "collapsed": false,
    "pycharm": {
     "name": "#%%\n"
    }
   }
  }
 ],
 "metadata": {
  "kernelspec": {
   "display_name": "Python 3",
   "language": "python",
   "name": "python3"
  },
  "language_info": {
   "codemirror_mode": {
    "name": "ipython",
    "version": 2
   },
   "file_extension": ".py",
   "mimetype": "text/x-python",
   "name": "python",
   "nbconvert_exporter": "python",
   "pygments_lexer": "ipython2",
   "version": "2.7.6"
  }
 },
 "nbformat": 4,
 "nbformat_minor": 0
}