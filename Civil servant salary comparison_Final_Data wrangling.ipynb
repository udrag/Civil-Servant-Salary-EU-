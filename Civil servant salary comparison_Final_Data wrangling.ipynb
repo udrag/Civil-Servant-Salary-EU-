{
 "cells": [
  {
   "cell_type": "markdown",
   "source": [
    "# Project name: Civil Servants Remuneration in the EU\n",
    "## Final analysis\n",
    "### Part 1: Data wrangling"
   ],
   "metadata": {
    "collapsed": false,
    "pycharm": {
     "name": "#%% md\n"
    }
   }
  },
  {
   "cell_type": "code",
   "execution_count": 99,
   "outputs": [],
   "source": [
    "# import relevant libraries\n",
    "import pandas as pd"
   ],
   "metadata": {
    "collapsed": false,
    "pycharm": {
     "name": "#%%\n"
    }
   }
  },
  {
   "cell_type": "code",
   "execution_count": 100,
   "outputs": [],
   "source": [
    "# load the datasets\n",
    "df_income = pd.read_csv('/Volumes/GoogleDrive-114951830941804947409/My Drive/Data analyst/Projects/Civil_Servant_Salary_EU/modified_data/1. Mean and median income in the EU.csv')\n",
    "df_salary = pd.read_csv('/Volumes/GoogleDrive-114951830941804947409/My Drive/Data analyst/Projects/Civil_Servant_Salary_EU/modified_data/2. EU Civil Servant average salary.csv')\n",
    "df_number = pd.read_csv('/Volumes/GoogleDrive-114951830941804947409/My Drive/Data analyst/Projects/Civil_Servant_Salary_EU/modified_data/3. EU_Number of civil servants.csv')"
   ],
   "metadata": {
    "collapsed": false,
    "pycharm": {
     "name": "#%%\n"
    }
   }
  },
  {
   "cell_type": "code",
   "execution_count": 101,
   "outputs": [
    {
     "name": "stdout",
     "output_type": "stream",
     "text": [
      "-EU income data-\n",
      "   time       geo        income\n",
      "0  2012   Austria  26073.727273\n",
      "1  2012   Belgium  22347.909091\n",
      "2  2012  Bulgaria   3363.454545\n",
      "3  2012   Croatia   6114.272727\n",
      "4  2012    Cyprus  21527.363636\n",
      "\n",
      "\n",
      "-EU civil servants average salary-\n",
      "   time       geo   salary\n",
      "0  2014   Belgium  31772.4\n",
      "1  2014  Bulgaria   6568.8\n",
      "2  2014   Czechia  11382.0\n",
      "3  2014   Denmark  30187.2\n",
      "4  2014   Germany  43851.6\n",
      "\n",
      "\n",
      "-EU civil servants average number of employees-\n",
      "   time       geo  employees\n",
      "0  2012   Belgium    34697.0\n",
      "1  2012  Bulgaria    45114.0\n",
      "2  2012   Czechia    19163.0\n",
      "3  2012   Denmark     7832.0\n",
      "4  2012   Germany    13280.0\n"
     ]
    }
   ],
   "source": [
    "# view data\n",
    "print('-EU income data-')\n",
    "print(df_income.head())\n",
    "print('\\n')\n",
    "print('-EU civil servants average salary-')\n",
    "print(df_salary.head())\n",
    "print('\\n')\n",
    "print('-EU civil servants average number of employees-')\n",
    "print(df_number.head())"
   ],
   "metadata": {
    "collapsed": false,
    "pycharm": {
     "name": "#%%\n"
    }
   }
  },
  {
   "cell_type": "code",
   "execution_count": 102,
   "outputs": [],
   "source": [
    "# group column in df_income to reflect average per year\n",
    "df_income = df_income.groupby(['time', 'geo'], as_index=False)['income'].mean()"
   ],
   "metadata": {
    "collapsed": false,
    "pycharm": {
     "name": "#%%\n"
    }
   }
  },
  {
   "cell_type": "code",
   "execution_count": 103,
   "outputs": [],
   "source": [
    "# join all three data sets\n",
    "df_first = pd.merge(df_income, df_salary, on =['time', 'geo'])\n",
    "df = pd.merge(df_first, df_number, on =['time', 'geo'])"
   ],
   "metadata": {
    "collapsed": false,
    "pycharm": {
     "name": "#%%\n"
    }
   }
  },
  {
   "cell_type": "code",
   "execution_count": 104,
   "outputs": [
    {
     "name": "stdout",
     "output_type": "stream",
     "text": [
      "Overview of the final table\n",
      "     time          geo        income   salary  employees\n",
      "0    2014      Austria  28018.454545  31356.0    20566.0\n",
      "1    2014      Belgium  24156.909091  31772.4    31297.0\n",
      "2    2014     Bulgaria   4052.909091   6568.8    34718.0\n",
      "3    2014      Croatia   5940.636364      0.0    11537.0\n",
      "4    2014       Cyprus  19964.454545  25833.6     8992.0\n",
      "..    ...          ...           ...      ...        ...\n",
      "204  2021  Netherlands  30993.000000  35124.0   135437.0\n",
      "205  2021      Romania   5526.818182  10884.0      436.0\n",
      "206  2021     Slovenia  16765.454545  20712.0    20428.0\n",
      "207  2021        Spain  19446.272727  34908.0    37685.0\n",
      "208  2021       Sweden  29594.090909  36960.0    69256.0\n",
      "\n",
      "[209 rows x 5 columns]\n",
      "\n",
      "\n",
      "In-deph view of the data\n",
      "<class 'pandas.core.frame.DataFrame'>\n",
      "Int64Index: 209 entries, 0 to 208\n",
      "Data columns (total 5 columns):\n",
      " #   Column     Non-Null Count  Dtype  \n",
      "---  ------     --------------  -----  \n",
      " 0   time       209 non-null    int64  \n",
      " 1   geo        209 non-null    object \n",
      " 2   income     209 non-null    float64\n",
      " 3   salary     209 non-null    float64\n",
      " 4   employees  207 non-null    float64\n",
      "dtypes: float64(3), int64(1), object(1)\n",
      "memory usage: 9.8+ KB\n",
      "None\n"
     ]
    }
   ],
   "source": [
    "# final check of the data\n",
    "print('Overview of the final table')\n",
    "print(df)\n",
    "print('\\n')\n",
    "print('In-deph view of the data')\n",
    "print(df.info())"
   ],
   "metadata": {
    "collapsed": false,
    "pycharm": {
     "name": "#%%\n"
    }
   }
  },
  {
   "cell_type": "code",
   "execution_count": 105,
   "outputs": [],
   "source": [
    "df.to_csv('/Volumes/GoogleDrive-114951830941804947409/My Drive/Data analyst/Projects/Civil_Servant_Salary_EU/modified_data/Final data/Civil Servants Remuneration in the EU_Final.csv')"
   ],
   "metadata": {
    "collapsed": false,
    "pycharm": {
     "name": "#%%\n"
    }
   }
  }
 ],
 "metadata": {
  "kernelspec": {
   "display_name": "Python 3",
   "language": "python",
   "name": "python3"
  },
  "language_info": {
   "codemirror_mode": {
    "name": "ipython",
    "version": 2
   },
   "file_extension": ".py",
   "mimetype": "text/x-python",
   "name": "python",
   "nbconvert_exporter": "python",
   "pygments_lexer": "ipython2",
   "version": "2.7.6"
  }
 },
 "nbformat": 4,
 "nbformat_minor": 0
}