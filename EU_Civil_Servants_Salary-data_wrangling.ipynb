{
 "cells": [
  {
   "cell_type": "markdown",
   "source": [
    "# Project name: Civil Servants Remuneration in the EU\n",
    "## Part 2: 2. Average remuneration of national civil servants in central public administration [prc_rem_avg]\n",
    "### Step 1: Data wrangling"
   ],
   "metadata": {
    "collapsed": false,
    "pycharm": {
     "name": "#%% md\n"
    }
   }
  },
  {
   "cell_type": "markdown",
   "source": [
    "LAST UPDATE: 22.08.22 17:37:26\n",
    "EXTRACTION DATE: 29.08.22 11:31:53\n",
    "SOURCE OF DATA: Eurostat\n",
    "\n",
    "### Column names and description of the values it holds\n",
    "TIME: Year and\n",
    "GEO: Country name\n",
    "UNIT: Euro/Purchasing power standard (PPS)\n",
    "INDIC_IL: Mean and Median of the net income\n",
    "CITIZEN: EU, Non-EU, Foreign country, Reporting country\n",
    "SEX: Total, Males, Females\n",
    "AGE: From 18 to 54 years; From 18 to 59 years; From 18 to 64 years; 18 years or over; From 20 to 64 years; From 25 to 54 years; From 25 to 59 years; From 55 to 64 years; 55 years or over; 60 years or over; 65 years or over"
   ],
   "metadata": {
    "collapsed": false,
    "pycharm": {
     "name": "#%% md\n"
    }
   }
  },
  {
   "cell_type": "code",
   "execution_count": 1,
   "metadata": {
    "collapsed": true,
    "pycharm": {
     "name": "#%%\n"
    }
   },
   "outputs": [],
   "source": [
    "# Import relevant libraries\n",
    "import pandas as pd"
   ]
  },
  {
   "cell_type": "code",
   "execution_count": 2,
   "outputs": [],
   "source": [
    "# Load the data\n",
    "df_salary = pd.read_csv('/Users/home/Documents/GitHub/Civil_Servant_Salary_EU/original_data/2. Average remuneration of national civil servants in central public administration [prc_rem_avg].csv')"
   ],
   "metadata": {
    "collapsed": false,
    "pycharm": {
     "name": "#%%\n"
    }
   }
  },
  {
   "cell_type": "code",
   "execution_count": 3,
   "outputs": [
    {
     "data": {
      "text/plain": "     TIME                                                GEO  \\\n0  2014S2  European Union (EU6-1958, EU9-1973, EU10-1981,...   \n1  2014S2  European Union (aggregate changing according t...   \n2  2014S2          European Union - 27 countries (from 2020)   \n3  2014S2                                            Belgium   \n4  2014S2                                           Bulgaria   \n\n                                         LCSTRUCT          P_ADJ  UNIT  \\\n0  Net remuneration in nominal terms / real terms  Nominal value  Euro   \n1  Net remuneration in nominal terms / real terms  Nominal value  Euro   \n2  Net remuneration in nominal terms / real terms  Nominal value  Euro   \n3  Net remuneration in nominal terms / real terms  Nominal value  Euro   \n4  Net remuneration in nominal terms / real terms  Nominal value  Euro   \n\n     Value  \n0  2,289.6  \n1  2,519.2  \n2  2,298.6  \n3  2,647.7  \n4    547.4  ",
      "text/html": "<div>\n<style scoped>\n    .dataframe tbody tr th:only-of-type {\n        vertical-align: middle;\n    }\n\n    .dataframe tbody tr th {\n        vertical-align: top;\n    }\n\n    .dataframe thead th {\n        text-align: right;\n    }\n</style>\n<table border=\"1\" class=\"dataframe\">\n  <thead>\n    <tr style=\"text-align: right;\">\n      <th></th>\n      <th>TIME</th>\n      <th>GEO</th>\n      <th>LCSTRUCT</th>\n      <th>P_ADJ</th>\n      <th>UNIT</th>\n      <th>Value</th>\n    </tr>\n  </thead>\n  <tbody>\n    <tr>\n      <th>0</th>\n      <td>2014S2</td>\n      <td>European Union (EU6-1958, EU9-1973, EU10-1981,...</td>\n      <td>Net remuneration in nominal terms / real terms</td>\n      <td>Nominal value</td>\n      <td>Euro</td>\n      <td>2,289.6</td>\n    </tr>\n    <tr>\n      <th>1</th>\n      <td>2014S2</td>\n      <td>European Union (aggregate changing according t...</td>\n      <td>Net remuneration in nominal terms / real terms</td>\n      <td>Nominal value</td>\n      <td>Euro</td>\n      <td>2,519.2</td>\n    </tr>\n    <tr>\n      <th>2</th>\n      <td>2014S2</td>\n      <td>European Union - 27 countries (from 2020)</td>\n      <td>Net remuneration in nominal terms / real terms</td>\n      <td>Nominal value</td>\n      <td>Euro</td>\n      <td>2,298.6</td>\n    </tr>\n    <tr>\n      <th>3</th>\n      <td>2014S2</td>\n      <td>Belgium</td>\n      <td>Net remuneration in nominal terms / real terms</td>\n      <td>Nominal value</td>\n      <td>Euro</td>\n      <td>2,647.7</td>\n    </tr>\n    <tr>\n      <th>4</th>\n      <td>2014S2</td>\n      <td>Bulgaria</td>\n      <td>Net remuneration in nominal terms / real terms</td>\n      <td>Nominal value</td>\n      <td>Euro</td>\n      <td>547.4</td>\n    </tr>\n  </tbody>\n</table>\n</div>"
     },
     "execution_count": 3,
     "metadata": {},
     "output_type": "execute_result"
    }
   ],
   "source": [
    "# take a first look at the data\n",
    "df_salary.head()"
   ],
   "metadata": {
    "collapsed": false,
    "pycharm": {
     "name": "#%%\n"
    }
   }
  },
  {
   "cell_type": "code",
   "execution_count": 4,
   "outputs": [],
   "source": [
    "# make column names lower case\n",
    "df_salary.columns = df_salary.columns.str.lower()"
   ],
   "metadata": {
    "collapsed": false,
    "pycharm": {
     "name": "#%%\n"
    }
   }
  },
  {
   "cell_type": "code",
   "execution_count": 6,
   "outputs": [
    {
     "data": {
      "text/plain": "array(['2014S2', '2015S2', '2016S2', '2017S2', '2018S2', '2019S2',\n       '2020S2', '2021S2'], dtype=object)"
     },
     "execution_count": 6,
     "metadata": {},
     "output_type": "execute_result"
    }
   ],
   "source": [
    "df_salary.time.unique()"
   ],
   "metadata": {
    "collapsed": false,
    "pycharm": {
     "name": "#%%\n"
    }
   }
  },
  {
   "cell_type": "code",
   "execution_count": 5,
   "outputs": [],
   "source": [],
   "metadata": {
    "collapsed": false,
    "pycharm": {
     "name": "#%%\n"
    }
   }
  }
 ],
 "metadata": {
  "kernelspec": {
   "display_name": "Python 3",
   "language": "python",
   "name": "python3"
  },
  "language_info": {
   "codemirror_mode": {
    "name": "ipython",
    "version": 2
   },
   "file_extension": ".py",
   "mimetype": "text/x-python",
   "name": "python",
   "nbconvert_exporter": "python",
   "pygments_lexer": "ipython2",
   "version": "2.7.6"
  }
 },
 "nbformat": 4,
 "nbformat_minor": 0
}