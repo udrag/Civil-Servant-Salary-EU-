{
 "cells": [
  {
   "cell_type": "markdown",
   "source": [
    "# Civil Servants Remuneration in the EU"
   ],
   "metadata": {
    "collapsed": false,
    "pycharm": {
     "name": "#%% md\n"
    }
   }
  },
  {
   "cell_type": "code",
   "execution_count": 270,
   "outputs": [],
   "source": [
    "# import relevant libraries\n",
    "import pandas as pd\n",
    "import numpy as np\n",
    "from matplotlib.pyplot import matplotlib\n",
    "%matplotlib inline\n",
    "import seaborn as sns"
   ],
   "metadata": {
    "collapsed": false,
    "pycharm": {
     "name": "#%%\n"
    }
   }
  },
  {
   "cell_type": "markdown",
   "source": [
    "## 1. Mean and median income by broad group of citizenship (population aged 18 and over) [ilc_di15]\n",
    "\n",
    "LAST UPDATE: 22.08.22 17:37:26\n",
    "EXTRACTION DATE: 29.08.22 11:31:53\n",
    "SOURCE OF DATA: Eurostat\n",
    "\n",
    "### Column names and data inside each\n",
    "TIME: Year\n",
    "GEO: Geo location\n",
    "UNIT: Euro\n",
    "INDIC_IL: Mean equivalized net income and Median equivalized net income\n",
    "CITIZEN: EU, Non-EU, Foreign country, Reporting country\n",
    "SEX: Total, Males, Females\n",
    "AGE: From 18 to 54 years; From 18 to 59 years; From 18 to 64 years; 18 years or over; From 20 to 64 years; From 25 to 54 years; From 25 to 59 years; From 55 to 64 years; 55 years or over; 60 years or over; 65 years or over"
   ],
   "metadata": {
    "collapsed": false,
    "pycharm": {
     "name": "#%% md\n"
    }
   }
  },
  {
   "cell_type": "code",
   "execution_count": 257,
   "outputs": [],
   "source": [
    "# load data\n",
    "df_income = pd.read_csv('/Volumes/GoogleDrive-114951830941804947409/My Drive/Data analyst/Projects/Civil Servants remuneration/original data/ilc_di15/ilc_di15_1_Data.csv')"
   ],
   "metadata": {
    "collapsed": false,
    "pycharm": {
     "name": "#%%\n"
    }
   }
  },
  {
   "cell_type": "markdown",
   "source": [
    "### Check the overall characteristics of the data"
   ],
   "metadata": {
    "collapsed": false,
    "pycharm": {
     "name": "#%% md\n"
    }
   }
  },
  {
   "cell_type": "code",
   "execution_count": 258,
   "outputs": [
    {
     "data": {
      "text/plain": "       TIME                                                GEO  \\\n0      2012                                            Belgium   \n1      2012                                            Belgium   \n2      2012                                            Belgium   \n3      2012                                            Belgium   \n4      2012                                            Belgium   \n...     ...                                                ...   \n48835  2021  Kosovo (under United Nations Security Council ...   \n48836  2021  Kosovo (under United Nations Security Council ...   \n48837  2021  Kosovo (under United Nations Security Council ...   \n48838  2021  Kosovo (under United Nations Security Council ...   \n48839  2021  Kosovo (under United Nations Security Council ...   \n\n                                  UNIT                       INDIC_IL  \\\n0                                 Euro    Mean equivalised net income   \n1                                 Euro    Mean equivalised net income   \n2                                 Euro    Mean equivalised net income   \n3                                 Euro    Mean equivalised net income   \n4                                 Euro    Mean equivalised net income   \n...                                ...                            ...   \n48835  Purchasing power standard (PPS)  Median equivalised net income   \n48836  Purchasing power standard (PPS)  Median equivalised net income   \n48837  Purchasing power standard (PPS)  Median equivalised net income   \n48838  Purchasing power standard (PPS)  Median equivalised net income   \n48839  Purchasing power standard (PPS)  Median equivalised net income   \n\n                 CITIZEN      SEX                  AGE   Value  \n0      Reporting country    Total  From 18 to 54 years  23 865  \n1      Reporting country    Total  From 18 to 59 years  23 950  \n2      Reporting country    Total  From 18 to 64 years  23 716  \n3      Reporting country    Total     18 years or over  22 365  \n4      Reporting country    Total  From 20 to 64 years  23 833  \n...                  ...      ...                  ...     ...  \n48835  Reporting country  Females  From 25 to 59 years       :  \n48836  Reporting country  Females  From 55 to 64 years       :  \n48837  Reporting country  Females     55 years or over       :  \n48838  Reporting country  Females     60 years or over       :  \n48839  Reporting country  Females     65 years or over       :  \n\n[48840 rows x 8 columns]",
      "text/html": "<div>\n<style scoped>\n    .dataframe tbody tr th:only-of-type {\n        vertical-align: middle;\n    }\n\n    .dataframe tbody tr th {\n        vertical-align: top;\n    }\n\n    .dataframe thead th {\n        text-align: right;\n    }\n</style>\n<table border=\"1\" class=\"dataframe\">\n  <thead>\n    <tr style=\"text-align: right;\">\n      <th></th>\n      <th>TIME</th>\n      <th>GEO</th>\n      <th>UNIT</th>\n      <th>INDIC_IL</th>\n      <th>CITIZEN</th>\n      <th>SEX</th>\n      <th>AGE</th>\n      <th>Value</th>\n    </tr>\n  </thead>\n  <tbody>\n    <tr>\n      <th>0</th>\n      <td>2012</td>\n      <td>Belgium</td>\n      <td>Euro</td>\n      <td>Mean equivalised net income</td>\n      <td>Reporting country</td>\n      <td>Total</td>\n      <td>From 18 to 54 years</td>\n      <td>23 865</td>\n    </tr>\n    <tr>\n      <th>1</th>\n      <td>2012</td>\n      <td>Belgium</td>\n      <td>Euro</td>\n      <td>Mean equivalised net income</td>\n      <td>Reporting country</td>\n      <td>Total</td>\n      <td>From 18 to 59 years</td>\n      <td>23 950</td>\n    </tr>\n    <tr>\n      <th>2</th>\n      <td>2012</td>\n      <td>Belgium</td>\n      <td>Euro</td>\n      <td>Mean equivalised net income</td>\n      <td>Reporting country</td>\n      <td>Total</td>\n      <td>From 18 to 64 years</td>\n      <td>23 716</td>\n    </tr>\n    <tr>\n      <th>3</th>\n      <td>2012</td>\n      <td>Belgium</td>\n      <td>Euro</td>\n      <td>Mean equivalised net income</td>\n      <td>Reporting country</td>\n      <td>Total</td>\n      <td>18 years or over</td>\n      <td>22 365</td>\n    </tr>\n    <tr>\n      <th>4</th>\n      <td>2012</td>\n      <td>Belgium</td>\n      <td>Euro</td>\n      <td>Mean equivalised net income</td>\n      <td>Reporting country</td>\n      <td>Total</td>\n      <td>From 20 to 64 years</td>\n      <td>23 833</td>\n    </tr>\n    <tr>\n      <th>...</th>\n      <td>...</td>\n      <td>...</td>\n      <td>...</td>\n      <td>...</td>\n      <td>...</td>\n      <td>...</td>\n      <td>...</td>\n      <td>...</td>\n    </tr>\n    <tr>\n      <th>48835</th>\n      <td>2021</td>\n      <td>Kosovo (under United Nations Security Council ...</td>\n      <td>Purchasing power standard (PPS)</td>\n      <td>Median equivalised net income</td>\n      <td>Reporting country</td>\n      <td>Females</td>\n      <td>From 25 to 59 years</td>\n      <td>:</td>\n    </tr>\n    <tr>\n      <th>48836</th>\n      <td>2021</td>\n      <td>Kosovo (under United Nations Security Council ...</td>\n      <td>Purchasing power standard (PPS)</td>\n      <td>Median equivalised net income</td>\n      <td>Reporting country</td>\n      <td>Females</td>\n      <td>From 55 to 64 years</td>\n      <td>:</td>\n    </tr>\n    <tr>\n      <th>48837</th>\n      <td>2021</td>\n      <td>Kosovo (under United Nations Security Council ...</td>\n      <td>Purchasing power standard (PPS)</td>\n      <td>Median equivalised net income</td>\n      <td>Reporting country</td>\n      <td>Females</td>\n      <td>55 years or over</td>\n      <td>:</td>\n    </tr>\n    <tr>\n      <th>48838</th>\n      <td>2021</td>\n      <td>Kosovo (under United Nations Security Council ...</td>\n      <td>Purchasing power standard (PPS)</td>\n      <td>Median equivalised net income</td>\n      <td>Reporting country</td>\n      <td>Females</td>\n      <td>60 years or over</td>\n      <td>:</td>\n    </tr>\n    <tr>\n      <th>48839</th>\n      <td>2021</td>\n      <td>Kosovo (under United Nations Security Council ...</td>\n      <td>Purchasing power standard (PPS)</td>\n      <td>Median equivalised net income</td>\n      <td>Reporting country</td>\n      <td>Females</td>\n      <td>65 years or over</td>\n      <td>:</td>\n    </tr>\n  </tbody>\n</table>\n<p>48840 rows × 8 columns</p>\n</div>"
     },
     "execution_count": 258,
     "metadata": {},
     "output_type": "execute_result"
    }
   ],
   "source": [
    "# first look\n",
    "df_income"
   ],
   "metadata": {
    "collapsed": false,
    "pycharm": {
     "name": "#%%\n"
    }
   }
  },
  {
   "cell_type": "code",
   "execution_count": 259,
   "outputs": [
    {
     "name": "stdout",
     "output_type": "stream",
     "text": [
      "<class 'pandas.core.frame.DataFrame'>\n",
      "RangeIndex: 48840 entries, 0 to 48839\n",
      "Data columns (total 8 columns):\n",
      " #   Column    Non-Null Count  Dtype \n",
      "---  ------    --------------  ----- \n",
      " 0   TIME      48840 non-null  int64 \n",
      " 1   GEO       48840 non-null  object\n",
      " 2   UNIT      48840 non-null  object\n",
      " 3   INDIC_IL  48840 non-null  object\n",
      " 4   CITIZEN   48840 non-null  object\n",
      " 5   SEX       48840 non-null  object\n",
      " 6   AGE       48840 non-null  object\n",
      " 7   Value     48840 non-null  object\n",
      "dtypes: int64(1), object(7)\n",
      "memory usage: 3.0+ MB\n"
     ]
    }
   ],
   "source": [
    "# print information about dataset\n",
    "df_income.info()"
   ],
   "metadata": {
    "collapsed": false,
    "pycharm": {
     "name": "#%%\n"
    }
   }
  },
  {
   "cell_type": "code",
   "execution_count": 260,
   "outputs": [],
   "source": [
    "# change the column names to lowercase\n",
    "df_income.columns = df_income.columns.str.lower()"
   ],
   "metadata": {
    "collapsed": false,
    "pycharm": {
     "name": "#%%\n"
    }
   }
  },
  {
   "cell_type": "code",
   "execution_count": 261,
   "outputs": [],
   "source": [
    "# drop the irrelevant rows\n",
    "df_income.drop(df_income[df_income.unit == \"Purchasing power standard (PPS)\"].index, axis=0, inplace=True)\n",
    "\n",
    "# drop the irrelevant columns\n",
    "df_income.drop(['unit', 'citizen'], axis=1, inplace=True)\n",
    "\n",
    "# reset index and drop the old one\n",
    "df_income.reset_index(drop=True, inplace=True)"
   ],
   "metadata": {
    "collapsed": false,
    "pycharm": {
     "name": "#%%\n"
    }
   }
  },
  {
   "cell_type": "code",
   "execution_count": 262,
   "outputs": [
    {
     "data": {
      "text/plain": "0        23865.0\n1        23950.0\n2        23716.0\n3        22365.0\n4        23833.0\n          ...   \n24415        NaN\n24416        NaN\n24417        NaN\n24418        NaN\n24419        NaN\nName: value, Length: 24420, dtype: float64"
     },
     "execution_count": 262,
     "metadata": {},
     "output_type": "execute_result"
    }
   ],
   "source": [
    "# clean the values in the \"value\" column\n",
    "df_income.value.replace(\":\", np.NaN, regex=True, inplace=True) # change the \":\" to NaN\n",
    "df_income.value.replace(\" \", \"\", regex=True, inplace=True) # remove spaces between the thousand separator\n",
    "df_income.value.astype('float') # change the data type to float"
   ],
   "metadata": {
    "collapsed": false,
    "pycharm": {
     "name": "#%%\n"
    }
   }
  },
  {
   "cell_type": "code",
   "execution_count": 263,
   "outputs": [],
   "source": [
    "# delete the \" equivalized net income\" from the indic_il values\n",
    "df_income.indic_il.replace(\" equivalised net income\", \"\", regex=True, inplace=True)\n",
    "# (OPTIONAL) default='warn' ## disable the false positives warnings\n",
    "pd.options.mode.chained_assignment = None"
   ],
   "metadata": {
    "collapsed": false,
    "pycharm": {
     "name": "#%%\n"
    }
   }
  },
  {
   "cell_type": "code",
   "execution_count": 264,
   "outputs": [],
   "source": [
    "# drop null values\n",
    "df_income.dropna(inplace=True)"
   ],
   "metadata": {
    "collapsed": false,
    "pycharm": {
     "name": "#%%\n"
    }
   }
  },
  {
   "cell_type": "code",
   "execution_count": 265,
   "outputs": [],
   "source": [
    "# merge the data to have two columns for mean and median values\n",
    "df_income_mean = df_income[df_income.indic_il == \"Mean\"] # filter the mean rows\n",
    "df_income_median = df_income[df_income.indic_il == \"Median\"] # filter the median rows\n",
    "df_income = pd.merge(df_income_mean, df_income_median, on=['geo', 'time', 'age', 'sex'], how='left', right_index=False, left_index=False) # merge data\n",
    "\n",
    "df_income.drop(['indic_il_x', 'indic_il_y'], axis=1, inplace=True) # drop the irrelevant columns\n",
    "\n",
    "df_income.rename(columns={'value_x': 'value_mean',\n",
    "                          'value_y': 'value_median'},\n",
    "                          inplace=True) # rename the two new columns"
   ],
   "metadata": {
    "collapsed": false,
    "pycharm": {
     "name": "#%%\n"
    }
   }
  },
  {
   "cell_type": "code",
   "execution_count": null,
   "outputs": [],
   "source": [],
   "metadata": {
    "collapsed": false,
    "pycharm": {
     "name": "#%%\n"
    }
   }
  },
  {
   "cell_type": "code",
   "execution_count": null,
   "outputs": [],
   "source": [],
   "metadata": {
    "collapsed": false,
    "pycharm": {
     "name": "#%%\n"
    }
   }
  },
  {
   "cell_type": "code",
   "execution_count": null,
   "outputs": [],
   "source": [],
   "metadata": {
    "collapsed": false,
    "pycharm": {
     "name": "#%%\n"
    }
   }
  },
  {
   "cell_type": "code",
   "execution_count": null,
   "outputs": [],
   "source": [],
   "metadata": {
    "collapsed": false,
    "pycharm": {
     "name": "#%%\n"
    }
   }
  },
  {
   "cell_type": "code",
   "execution_count": null,
   "outputs": [],
   "source": [],
   "metadata": {
    "collapsed": false,
    "pycharm": {
     "name": "#%%\n"
    }
   }
  },
  {
   "cell_type": "code",
   "execution_count": null,
   "outputs": [],
   "source": [
    "df_avg = pd.read_csv('/Volumes/GoogleDrive-114951830941804947409/My Drive/Data analyst/Projects/Civil Servants remuneration/original data/prc_rem_avg/prc_rem_avg_1_Data.csv')\n",
    "df_no = pd.read_csv('/Volumes/GoogleDrive-114951830941804947409/My Drive/Data analyst/Projects/Civil Servants remuneration/original data/prc_rem_nr/prc_rem_nr_1_Data.csv')"
   ],
   "metadata": {
    "collapsed": false,
    "pycharm": {
     "name": "#%%\n"
    }
   }
  }
 ],
 "metadata": {
  "kernelspec": {
   "display_name": "Python 3",
   "language": "python",
   "name": "python3"
  },
  "language_info": {
   "codemirror_mode": {
    "name": "ipython",
    "version": 2
   },
   "file_extension": ".py",
   "mimetype": "text/x-python",
   "name": "python",
   "nbconvert_exporter": "python",
   "pygments_lexer": "ipython2",
   "version": "2.7.6"
  }
 },
 "nbformat": 4,
 "nbformat_minor": 0
}