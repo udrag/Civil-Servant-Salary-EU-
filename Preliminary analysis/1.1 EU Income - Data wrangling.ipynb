{
 "cells": [
  {
   "cell_type": "markdown",
   "source": [
    "# Project name: Civil Servants Remuneration in the EU\n",
    "## Preliminary analysis\n",
    "### Part 1: Mean and median income by broad group of citizenship (population aged 18 and over)\n",
    "#### Step 1: Data wrangling"
   ],
   "metadata": {
    "collapsed": false,
    "pycharm": {
     "name": "#%% md\n"
    }
   }
  },
  {
   "cell_type": "markdown",
   "source": [
    "LAST UPDATE: 22.08.22 17:37:26\n",
    "EXTRACTION DATE: 29.08.22 11:31:53\n",
    "SOURCE OF DATA: Eurostat\n",
    "\n",
    "### Column names and description of the values it holds\n",
    "TIME: Year\n",
    "\n",
    "GEO: Country name\n",
    "\n",
    "UNIT: Euro/Purchasing power standard (PPS)\n",
    "\n",
    "INDIC_IL: Mean and Median of the net income\n",
    "\n",
    "CITIZEN: EU, Non-EU, Foreign country, Reporting country\n",
    "\n",
    "SEX: Total, Males, Females\n",
    "\n",
    "AGE: From 18 to 54 years; From 18 to 59 years; From 18 to 64 years; 18 years or over; From 20 to 64 years; From 25 to 54 years; From 25 to 59 years; From 55 to 64 years; 55 years or over; 60 years or over; 65 years or over\n",
    "\n",
    "VALUE: Value of the income"
   ],
   "metadata": {
    "collapsed": false,
    "pycharm": {
     "name": "#%% md\n"
    }
   }
  },
  {
   "cell_type": "markdown",
   "source": [
    "## Data Gathering\n",
    "In the cell below, the data related to the average income of the EU member states have been loaded. The rest of the files will be wrangled separately in a different notebook."
   ],
   "metadata": {
    "collapsed": false,
    "pycharm": {
     "name": "#%% md\n"
    }
   }
  },
  {
   "cell_type": "code",
   "execution_count": 22,
   "outputs": [],
   "source": [
    "# import relevant libraries\n",
    "import pandas as pd\n",
    "import numpy as np"
   ],
   "metadata": {
    "collapsed": false,
    "pycharm": {
     "name": "#%%\n"
    }
   }
  },
  {
   "cell_type": "code",
   "execution_count": 23,
   "outputs": [],
   "source": [
    "# load the data\n",
    "df_income = pd.read_csv('/Volumes/GoogleDrive-114951830941804947409/My Drive/Data analyst/Projects/Civil_Servant_Salary_EU/original_data/1. Mean and median income by broad group of citizenship (population aged 18 and over) [ilc_di15].csv')"
   ],
   "metadata": {
    "collapsed": false,
    "pycharm": {
     "name": "#%%\n"
    }
   }
  },
  {
   "cell_type": "markdown",
   "source": [
    "### Check the overall characteristics of the data"
   ],
   "metadata": {
    "collapsed": false,
    "pycharm": {
     "name": "#%% md\n"
    }
   }
  },
  {
   "cell_type": "code",
   "execution_count": 24,
   "outputs": [
    {
     "data": {
      "text/plain": "   TIME      GEO  UNIT                     INDIC_IL            CITIZEN    SEX  \\\n0  2012  Belgium  Euro  Mean equivalised net income  Reporting country  Total   \n1  2012  Belgium  Euro  Mean equivalised net income  Reporting country  Total   \n2  2012  Belgium  Euro  Mean equivalised net income  Reporting country  Total   \n3  2012  Belgium  Euro  Mean equivalised net income  Reporting country  Total   \n4  2012  Belgium  Euro  Mean equivalised net income  Reporting country  Total   \n\n                   AGE   Value  \n0  From 18 to 54 years  23 865  \n1  From 18 to 59 years  23 950  \n2  From 18 to 64 years  23 716  \n3     18 years or over  22 365  \n4  From 20 to 64 years  23 833  ",
      "text/html": "<div>\n<style scoped>\n    .dataframe tbody tr th:only-of-type {\n        vertical-align: middle;\n    }\n\n    .dataframe tbody tr th {\n        vertical-align: top;\n    }\n\n    .dataframe thead th {\n        text-align: right;\n    }\n</style>\n<table border=\"1\" class=\"dataframe\">\n  <thead>\n    <tr style=\"text-align: right;\">\n      <th></th>\n      <th>TIME</th>\n      <th>GEO</th>\n      <th>UNIT</th>\n      <th>INDIC_IL</th>\n      <th>CITIZEN</th>\n      <th>SEX</th>\n      <th>AGE</th>\n      <th>Value</th>\n    </tr>\n  </thead>\n  <tbody>\n    <tr>\n      <th>0</th>\n      <td>2012</td>\n      <td>Belgium</td>\n      <td>Euro</td>\n      <td>Mean equivalised net income</td>\n      <td>Reporting country</td>\n      <td>Total</td>\n      <td>From 18 to 54 years</td>\n      <td>23 865</td>\n    </tr>\n    <tr>\n      <th>1</th>\n      <td>2012</td>\n      <td>Belgium</td>\n      <td>Euro</td>\n      <td>Mean equivalised net income</td>\n      <td>Reporting country</td>\n      <td>Total</td>\n      <td>From 18 to 59 years</td>\n      <td>23 950</td>\n    </tr>\n    <tr>\n      <th>2</th>\n      <td>2012</td>\n      <td>Belgium</td>\n      <td>Euro</td>\n      <td>Mean equivalised net income</td>\n      <td>Reporting country</td>\n      <td>Total</td>\n      <td>From 18 to 64 years</td>\n      <td>23 716</td>\n    </tr>\n    <tr>\n      <th>3</th>\n      <td>2012</td>\n      <td>Belgium</td>\n      <td>Euro</td>\n      <td>Mean equivalised net income</td>\n      <td>Reporting country</td>\n      <td>Total</td>\n      <td>18 years or over</td>\n      <td>22 365</td>\n    </tr>\n    <tr>\n      <th>4</th>\n      <td>2012</td>\n      <td>Belgium</td>\n      <td>Euro</td>\n      <td>Mean equivalised net income</td>\n      <td>Reporting country</td>\n      <td>Total</td>\n      <td>From 20 to 64 years</td>\n      <td>23 833</td>\n    </tr>\n  </tbody>\n</table>\n</div>"
     },
     "execution_count": 24,
     "metadata": {},
     "output_type": "execute_result"
    }
   ],
   "source": [
    "# first look at the\n",
    "df_income.head()"
   ],
   "metadata": {
    "collapsed": false,
    "pycharm": {
     "name": "#%%\n"
    }
   }
  },
  {
   "cell_type": "code",
   "execution_count": 25,
   "outputs": [
    {
     "name": "stdout",
     "output_type": "stream",
     "text": [
      "<class 'pandas.core.frame.DataFrame'>\n",
      "RangeIndex: 48840 entries, 0 to 48839\n",
      "Data columns (total 8 columns):\n",
      " #   Column    Non-Null Count  Dtype \n",
      "---  ------    --------------  ----- \n",
      " 0   TIME      48840 non-null  int64 \n",
      " 1   GEO       48840 non-null  object\n",
      " 2   UNIT      48840 non-null  object\n",
      " 3   INDIC_IL  48840 non-null  object\n",
      " 4   CITIZEN   48840 non-null  object\n",
      " 5   SEX       48840 non-null  object\n",
      " 6   AGE       48840 non-null  object\n",
      " 7   Value     48840 non-null  object\n",
      "dtypes: int64(1), object(7)\n",
      "memory usage: 3.0+ MB\n"
     ]
    }
   ],
   "source": [
    "# print information about dataset\n",
    "df_income.info()"
   ],
   "metadata": {
    "collapsed": false,
    "pycharm": {
     "name": "#%%\n"
    }
   }
  },
  {
   "cell_type": "code",
   "execution_count": 26,
   "outputs": [],
   "source": [
    "# change the column names to lowercase\n",
    "df_income.columns = df_income.columns.str.lower()"
   ],
   "metadata": {
    "collapsed": false,
    "pycharm": {
     "name": "#%%\n"
    }
   }
  },
  {
   "cell_type": "markdown",
   "source": [
    "For the purpose of this project we will use the values in Euro and we will analyze the data from the EU countries only."
   ],
   "metadata": {
    "collapsed": false,
    "pycharm": {
     "name": "#%% md\n"
    }
   }
  },
  {
   "cell_type": "code",
   "execution_count": 27,
   "outputs": [],
   "source": [
    "# drop the Purchasing power standard (PPS) rows\n",
    "df_income.drop(df_income[df_income.unit == \"Purchasing power standard (PPS)\"].index, axis=0, inplace=True)\n",
    "\n",
    "# next drop the unit column and citizen\n",
    "df_income.drop(['unit', 'citizen'], axis=1, inplace=True)\n",
    "\n",
    "# reset index and drop the old one\n",
    "df_income.reset_index(drop=True, inplace=True)"
   ],
   "metadata": {
    "collapsed": false,
    "pycharm": {
     "name": "#%%\n"
    }
   }
  },
  {
   "cell_type": "code",
   "execution_count": 28,
   "outputs": [
    {
     "data": {
      "text/plain": "0        23865.0\n1        23950.0\n2        23716.0\n3        22365.0\n4        23833.0\n          ...   \n24415        NaN\n24416        NaN\n24417        NaN\n24418        NaN\n24419        NaN\nName: value, Length: 24420, dtype: float64"
     },
     "execution_count": 28,
     "metadata": {},
     "output_type": "execute_result"
    }
   ],
   "source": [
    "# transform the values in the \"value\" column\n",
    "df_income.value.replace(\":\", np.NaN, regex=True, inplace=True) # change the \":\" to NaN\n",
    "df_income.value.replace(\" \", \"\", regex=True, inplace=True) # remove spaces between the thousand separator\n",
    "df_income.value.astype('float64') # change the data type to float64"
   ],
   "metadata": {
    "collapsed": false,
    "pycharm": {
     "name": "#%%\n"
    }
   }
  },
  {
   "cell_type": "code",
   "execution_count": 29,
   "outputs": [],
   "source": [
    "# delete the \" equivalized net income\" from the value columns\n",
    "df_income.indic_il.replace(\" equivalised net income\", \"\", regex=True, inplace=True)\n",
    "# (OPTIONAL) default='warn' ## disable the false positives warnings\n",
    "pd.options.mode.chained_assignment = None"
   ],
   "metadata": {
    "collapsed": false,
    "pycharm": {
     "name": "#%%\n"
    }
   }
  },
  {
   "cell_type": "code",
   "execution_count": 30,
   "outputs": [],
   "source": [
    "# drop null values in the dataset\n",
    "df_income.dropna(inplace=True)"
   ],
   "metadata": {
    "collapsed": false,
    "pycharm": {
     "name": "#%%\n"
    }
   }
  },
  {
   "cell_type": "code",
   "execution_count": 31,
   "outputs": [],
   "source": [
    "# merge the data to have two columns for mean and median values\n",
    "df_income_mean = df_income[df_income.indic_il == \"Mean\"] # filter the mean rows\n",
    "df_income_median = df_income[df_income.indic_il == \"Median\"] # filter the median rows\n",
    "df_income = pd.merge(df_income_mean, df_income_median, on=['geo', 'time', 'age', 'sex'], how='left', right_index=False,                                      left_index=False) # merge the data\n",
    "\n",
    "df_income.drop(['indic_il_x', 'indic_il_y'], axis=1, inplace=True) # drop the irrelevant columns\n",
    "\n",
    "df_income.rename(columns={'value_x': 'value_mean',\n",
    "                          'value_y': 'value_median'},\n",
    "                          inplace=True) # rename the two new columns\n",
    "# change the dtype of the value columns\n",
    "df_income.value_mean = df_income.value_mean.astype('float64')\n",
    "df_income.value_median = df_income.value_median.astype('float64')"
   ],
   "metadata": {
    "collapsed": false,
    "pycharm": {
     "name": "#%%\n"
    }
   }
  },
  {
   "cell_type": "code",
   "execution_count": 32,
   "outputs": [],
   "source": [
    "# simplify the age column\n",
    "df_income.replace('From ','', regex=True, inplace=True)\n",
    "df_income.replace(' years','', regex=True, inplace=True)"
   ],
   "metadata": {
    "collapsed": false,
    "pycharm": {
     "name": "#%%\n"
    }
   }
  },
  {
   "cell_type": "code",
   "execution_count": 33,
   "outputs": [],
   "source": [
    "# change Germany long name to the short one\n",
    "index_ger = df_income[df_income['geo'].str.contains(\"Germany\")].index # store index values to identify rows that contains Germany\n",
    "df_income.loc[index_ger, \"geo\"] = 'Germany' # assign the new values"
   ],
   "metadata": {
    "collapsed": false,
    "pycharm": {
     "name": "#%%\n"
    }
   }
  },
  {
   "cell_type": "code",
   "execution_count": 34,
   "outputs": [],
   "source": [
    "# store the new data\n",
    "df_income.to_csv('/Volumes/GoogleDrive-114951830941804947409/My Drive/Data analyst/Projects/Civil_Servant_Salary_EU/modified_data/1. Mean and median income in the EU.csv', index=False)"
   ],
   "metadata": {
    "collapsed": false,
    "pycharm": {
     "name": "#%%\n"
    }
   }
  }
 ],
 "metadata": {
  "kernelspec": {
   "display_name": "Python 3",
   "language": "python",
   "name": "python3"
  },
  "language_info": {
   "codemirror_mode": {
    "name": "ipython",
    "version": 2
   },
   "file_extension": ".py",
   "mimetype": "text/x-python",
   "name": "python",
   "nbconvert_exporter": "python",
   "pygments_lexer": "ipython2",
   "version": "2.7.6"
  }
 },
 "nbformat": 4,
 "nbformat_minor": 0
}