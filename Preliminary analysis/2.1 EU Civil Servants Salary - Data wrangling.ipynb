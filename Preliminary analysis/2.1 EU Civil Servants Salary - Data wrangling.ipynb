{
 "cells": [
  {
   "cell_type": "markdown",
   "source": [
    "# Project name: Civil Servants Remuneration in the EU\n",
    "## Preliminary analysis\n",
    "### Part 2: EU Civil Servant average salary\n",
    "#### Step 1: Data wrangling"
   ],
   "metadata": {
    "collapsed": false,
    "pycharm": {
     "name": "#%% md\n"
    }
   }
  },
  {
   "cell_type": "markdown",
   "source": [
    "LAST UPDATE: 22.08.22 17:37:26\n",
    "EXTRACTION DATE: 29.08.22 11:31:53\n",
    "SOURCE OF DATA: Eurostat\n",
    "\n",
    "### Column names and the values it holds\n",
    "TIME: Year\n",
    "\n",
    "GEO: EU country name\n",
    "\n",
    "LCSTRUCT: Net remuneration in nominal terms / real terms\n",
    "\n",
    "P_ADJ: Nominal value\n",
    "\n",
    "UNIT: Euro/Purchasing power standard (PPS)\n",
    "\n",
    "Value: Value of the income"
   ],
   "metadata": {
    "collapsed": false,
    "pycharm": {
     "name": "#%% md\n"
    }
   }
  },
  {
   "cell_type": "markdown",
   "source": [
    "## Data Gathering\n",
    "In the cell below, only the data related to the average income of the EU member states have been loaded. The rest of the files will be wrangled separately in separate notebooks."
   ],
   "metadata": {
    "collapsed": false,
    "pycharm": {
     "name": "#%% md\n"
    }
   }
  },
  {
   "cell_type": "code",
   "execution_count": 116,
   "metadata": {
    "collapsed": true,
    "pycharm": {
     "name": "#%%\n"
    }
   },
   "outputs": [],
   "source": [
    "# Import relevant libraries\n",
    "import pandas as pd"
   ]
  },
  {
   "cell_type": "code",
   "execution_count": 117,
   "outputs": [],
   "source": [
    "# Load the data\n",
    "df_salary = pd.read_csv('/Volumes/GoogleDrive-114951830941804947409/My Drive/Data analyst/Projects/Civil_Servant_Salary_EU/original_data/2. Average remuneration of national civil servants in central public administration [prc_rem_avg].csv')"
   ],
   "metadata": {
    "collapsed": false,
    "pycharm": {
     "name": "#%%\n"
    }
   }
  },
  {
   "cell_type": "code",
   "execution_count": 118,
   "outputs": [
    {
     "data": {
      "text/plain": "     TIME       GEO                                        LCSTRUCT  \\\n0  2014S2   Belgium  Net remuneration in nominal terms / real terms   \n1  2014S2   Belgium  Net remuneration in nominal terms / real terms   \n2  2014S2  Bulgaria  Net remuneration in nominal terms / real terms   \n3  2014S2  Bulgaria  Net remuneration in nominal terms / real terms   \n4  2014S2   Czechia  Net remuneration in nominal terms / real terms   \n\n           P_ADJ                             UNIT    Value  \n0  Nominal value                             Euro  2 647.7  \n1  Nominal value  Purchasing power standard (PPS)  2 647.7  \n2  Nominal value                             Euro   547.40  \n3  Nominal value  Purchasing power standard (PPS)   993.20  \n4  Nominal value                             Euro   948.50  ",
      "text/html": "<div>\n<style scoped>\n    .dataframe tbody tr th:only-of-type {\n        vertical-align: middle;\n    }\n\n    .dataframe tbody tr th {\n        vertical-align: top;\n    }\n\n    .dataframe thead th {\n        text-align: right;\n    }\n</style>\n<table border=\"1\" class=\"dataframe\">\n  <thead>\n    <tr style=\"text-align: right;\">\n      <th></th>\n      <th>TIME</th>\n      <th>GEO</th>\n      <th>LCSTRUCT</th>\n      <th>P_ADJ</th>\n      <th>UNIT</th>\n      <th>Value</th>\n    </tr>\n  </thead>\n  <tbody>\n    <tr>\n      <th>0</th>\n      <td>2014S2</td>\n      <td>Belgium</td>\n      <td>Net remuneration in nominal terms / real terms</td>\n      <td>Nominal value</td>\n      <td>Euro</td>\n      <td>2 647.7</td>\n    </tr>\n    <tr>\n      <th>1</th>\n      <td>2014S2</td>\n      <td>Belgium</td>\n      <td>Net remuneration in nominal terms / real terms</td>\n      <td>Nominal value</td>\n      <td>Purchasing power standard (PPS)</td>\n      <td>2 647.7</td>\n    </tr>\n    <tr>\n      <th>2</th>\n      <td>2014S2</td>\n      <td>Bulgaria</td>\n      <td>Net remuneration in nominal terms / real terms</td>\n      <td>Nominal value</td>\n      <td>Euro</td>\n      <td>547.40</td>\n    </tr>\n    <tr>\n      <th>3</th>\n      <td>2014S2</td>\n      <td>Bulgaria</td>\n      <td>Net remuneration in nominal terms / real terms</td>\n      <td>Nominal value</td>\n      <td>Purchasing power standard (PPS)</td>\n      <td>993.20</td>\n    </tr>\n    <tr>\n      <th>4</th>\n      <td>2014S2</td>\n      <td>Czechia</td>\n      <td>Net remuneration in nominal terms / real terms</td>\n      <td>Nominal value</td>\n      <td>Euro</td>\n      <td>948.50</td>\n    </tr>\n  </tbody>\n</table>\n</div>"
     },
     "execution_count": 118,
     "metadata": {},
     "output_type": "execute_result"
    }
   ],
   "source": [
    "# take a first look at the data\n",
    "df_salary.head()"
   ],
   "metadata": {
    "collapsed": false,
    "pycharm": {
     "name": "#%%\n"
    }
   }
  },
  {
   "cell_type": "code",
   "execution_count": 119,
   "outputs": [],
   "source": [
    "# make column names lower case\n",
    "df_salary.columns = df_salary.columns.str.lower()"
   ],
   "metadata": {
    "collapsed": false,
    "pycharm": {
     "name": "#%%\n"
    }
   }
  },
  {
   "cell_type": "code",
   "execution_count": 120,
   "outputs": [
    {
     "data": {
      "text/plain": "     time             geo    value\n0    2014         Belgium  2 647.7\n1    2014        Bulgaria   547.40\n2    2014         Czechia   948.50\n3    2014         Denmark  2 515.6\n4    2014         Germany  3 654.3\n..    ...             ...      ...\n219  2021        Slovenia  1 726.0\n220  2021        Slovakia  1 850.0\n221  2021         Finland  3 665.0\n222  2021          Sweden  3 080.0\n223  2021  United Kingdom      NaN\n\n[224 rows x 3 columns]",
      "text/html": "<div>\n<style scoped>\n    .dataframe tbody tr th:only-of-type {\n        vertical-align: middle;\n    }\n\n    .dataframe tbody tr th {\n        vertical-align: top;\n    }\n\n    .dataframe thead th {\n        text-align: right;\n    }\n</style>\n<table border=\"1\" class=\"dataframe\">\n  <thead>\n    <tr style=\"text-align: right;\">\n      <th></th>\n      <th>time</th>\n      <th>geo</th>\n      <th>value</th>\n    </tr>\n  </thead>\n  <tbody>\n    <tr>\n      <th>0</th>\n      <td>2014</td>\n      <td>Belgium</td>\n      <td>2 647.7</td>\n    </tr>\n    <tr>\n      <th>1</th>\n      <td>2014</td>\n      <td>Bulgaria</td>\n      <td>547.40</td>\n    </tr>\n    <tr>\n      <th>2</th>\n      <td>2014</td>\n      <td>Czechia</td>\n      <td>948.50</td>\n    </tr>\n    <tr>\n      <th>3</th>\n      <td>2014</td>\n      <td>Denmark</td>\n      <td>2 515.6</td>\n    </tr>\n    <tr>\n      <th>4</th>\n      <td>2014</td>\n      <td>Germany</td>\n      <td>3 654.3</td>\n    </tr>\n    <tr>\n      <th>...</th>\n      <td>...</td>\n      <td>...</td>\n      <td>...</td>\n    </tr>\n    <tr>\n      <th>219</th>\n      <td>2021</td>\n      <td>Slovenia</td>\n      <td>1 726.0</td>\n    </tr>\n    <tr>\n      <th>220</th>\n      <td>2021</td>\n      <td>Slovakia</td>\n      <td>1 850.0</td>\n    </tr>\n    <tr>\n      <th>221</th>\n      <td>2021</td>\n      <td>Finland</td>\n      <td>3 665.0</td>\n    </tr>\n    <tr>\n      <th>222</th>\n      <td>2021</td>\n      <td>Sweden</td>\n      <td>3 080.0</td>\n    </tr>\n    <tr>\n      <th>223</th>\n      <td>2021</td>\n      <td>United Kingdom</td>\n      <td>NaN</td>\n    </tr>\n  </tbody>\n</table>\n<p>224 rows × 3 columns</p>\n</div>"
     },
     "execution_count": 120,
     "metadata": {},
     "output_type": "execute_result"
    }
   ],
   "source": [
    "# simplify the dataframe\n",
    "df_salary.time.replace(\"S2\", \"\", regex=True, inplace=True) # remove the S2 notation\n",
    "df_salary.drop(df_salary[df_salary['unit'] == \"Purchasing power standard (PPS)\"].index, axis=0, inplace=True) # drop the PPS rows\n",
    "df_salary.drop(['lcstruct', 'p_adj', 'unit'], axis=1, inplace=True) # drop the columns with redundant info\n",
    "df_salary.reset_index(drop='index') # reset the dataframe index"
   ],
   "metadata": {
    "collapsed": false,
    "pycharm": {
     "name": "#%%\n"
    }
   }
  },
  {
   "cell_type": "code",
   "execution_count": 121,
   "outputs": [
    {
     "name": "stdout",
     "output_type": "stream",
     "text": [
      "<class 'pandas.core.frame.DataFrame'>\n",
      "RangeIndex: 224 entries, 0 to 446\n",
      "Data columns (total 3 columns):\n",
      " #   Column  Non-Null Count  Dtype \n",
      "---  ------  --------------  ----- \n",
      " 0   time    224 non-null    object\n",
      " 1   geo     224 non-null    object\n",
      " 2   value   223 non-null    object\n",
      "dtypes: object(3)\n",
      "memory usage: 5.4+ KB\n"
     ]
    }
   ],
   "source": [
    "# check the overall data characteristics\n",
    "df_salary.info()"
   ],
   "metadata": {
    "collapsed": false,
    "pycharm": {
     "name": "#%%\n"
    }
   }
  },
  {
   "cell_type": "code",
   "execution_count": 122,
   "outputs": [],
   "source": [
    "# convert the value columns to float64\n",
    "df_salary.replace(\" \", \"\", regex=True, inplace=True)\n",
    "df_salary.value = df_salary.value.astype('float64')"
   ],
   "metadata": {
    "collapsed": false,
    "pycharm": {
     "name": "#%%\n"
    }
   }
  },
  {
   "cell_type": "code",
   "execution_count": 123,
   "outputs": [],
   "source": [
    "# change Germany long name to the short one\n",
    "index_ger = df_salary[df_salary['geo'].str.contains(\"Germany\")].index # store index values to identify rows that contains Germany\n",
    "df_salary.loc[index_ger, \"geo\"] = 'Germany' # assign the new values"
   ],
   "metadata": {
    "collapsed": false,
    "pycharm": {
     "name": "#%%\n"
    }
   }
  },
  {
   "cell_type": "code",
   "execution_count": 124,
   "outputs": [
    {
     "data": {
      "text/plain": "52.1429"
     },
     "execution_count": 124,
     "metadata": {},
     "output_type": "execute_result"
    }
   ],
   "source": [
    "52.1429/12 * 12"
   ],
   "metadata": {
    "collapsed": false,
    "pycharm": {
     "name": "#%%\n"
    }
   }
  },
  {
   "cell_type": "code",
   "execution_count": 125,
   "outputs": [],
   "source": [
    "# convert mean value from semester to yearly\n",
    "## since the value is the monthly average we will adjut the value to reflect the values in the income dataset\n",
    "df_salary.value = (df_salary.value / (52.1429/12)) * 52.1429 # convert 1 month to weeks by dividing 52.1429 weeks to 12 months"
   ],
   "metadata": {
    "collapsed": false,
    "pycharm": {
     "name": "#%%\n"
    }
   }
  },
  {
   "cell_type": "code",
   "execution_count": 126,
   "outputs": [],
   "source": [
    "# change the value_mean columns name to income\n",
    "df_salary.rename(columns={'value': 'salary'}, inplace=True)"
   ],
   "metadata": {
    "collapsed": false,
    "pycharm": {
     "name": "#%%\n"
    }
   }
  },
  {
   "cell_type": "code",
   "execution_count": 127,
   "outputs": [],
   "source": [
    "# store the new data\n",
    "df_salary.to_csv('/Volumes/GoogleDrive-114951830941804947409/My Drive/Data analyst/Projects/Civil_Servant_Salary_EU/modified_data/2. EU Civil Servant average salary.csv', index=False)"
   ],
   "metadata": {
    "collapsed": false,
    "pycharm": {
     "name": "#%%\n"
    }
   }
  }
 ],
 "metadata": {
  "kernelspec": {
   "display_name": "Python 3",
   "language": "python",
   "name": "python3"
  },
  "language_info": {
   "codemirror_mode": {
    "name": "ipython",
    "version": 2
   },
   "file_extension": ".py",
   "mimetype": "text/x-python",
   "name": "python",
   "nbconvert_exporter": "python",
   "pygments_lexer": "ipython2",
   "version": "2.7.6"
  }
 },
 "nbformat": 4,
 "nbformat_minor": 0
}