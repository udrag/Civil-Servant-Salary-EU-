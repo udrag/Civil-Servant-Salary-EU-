{
 "cells": [
  {
   "cell_type": "markdown",
   "source": [
    "# Project name: Civil Servants Remuneration in the EU\n",
    "## Final analysis\n",
    "### Part 1: Data wrangling"
   ],
   "metadata": {
    "collapsed": false,
    "pycharm": {
     "name": "#%% md\n"
    }
   }
  },
  {
   "cell_type": "code",
   "execution_count": 45,
   "outputs": [],
   "source": [
    "# import relevant libraries\n",
    "import pandas as pd"
   ],
   "metadata": {
    "collapsed": false,
    "pycharm": {
     "name": "#%%\n"
    }
   }
  },
  {
   "cell_type": "code",
   "execution_count": 46,
   "outputs": [],
   "source": [
    "# load the datasets\n",
    "df_income = pd.read_csv('/Volumes/GoogleDrive-114951830941804947409/My Drive/Data analyst/Projects/Civil_Servant_Salary_EU/modified_data/1. Mean and median income in the EU.csv')\n",
    "df_salary = pd.read_csv('/Volumes/GoogleDrive-114951830941804947409/My Drive/Data analyst/Projects/Civil_Servant_Salary_EU/modified_data/2. EU Civil Servant average salary.csv')\n",
    "df_number = pd.read_csv('/Volumes/GoogleDrive-114951830941804947409/My Drive/Data analyst/Projects/Civil_Servant_Salary_EU/modified_data/3. EU_Number of civil servants.csv')"
   ],
   "metadata": {
    "collapsed": false,
    "pycharm": {
     "name": "#%%\n"
    }
   }
  },
  {
   "cell_type": "code",
   "execution_count": 47,
   "outputs": [
    {
     "name": "stdout",
     "output_type": "stream",
     "text": [
      "-EU income data-\n",
      "   time      geo    sex         age  value_mean  value_median\n",
      "0  2012  Belgium  Total    18 to 54     23865.0       22750.0\n",
      "1  2012  Belgium  Total    18 to 59     23950.0       22754.0\n",
      "2  2012  Belgium  Total    18 to 64     23716.0       22452.0\n",
      "3  2012  Belgium  Total  18 or over     22365.0       20773.0\n",
      "4  2012  Belgium  Total    20 to 64     23833.0       22514.0\n",
      "\n",
      "\n",
      "-EU civil servants average salary-\n",
      "   time       geo   value\n",
      "0  2014   Belgium  2647.7\n",
      "1  2014  Bulgaria   547.4\n",
      "2  2014   Czechia   948.5\n",
      "3  2014   Denmark  2515.6\n",
      "4  2014   Germany  3654.3\n",
      "\n",
      "\n",
      "-EU civil servants average number of employees-\n",
      "   time       geo    value\n",
      "0  2012   Belgium  34697.0\n",
      "1  2012  Bulgaria  45114.0\n",
      "2  2012   Czechia  19163.0\n",
      "3  2012   Denmark   7832.0\n",
      "4  2012   Germany  13280.0\n"
     ]
    }
   ],
   "source": [
    "# view data\n",
    "print('-EU income data-')\n",
    "print(df_income.head())\n",
    "print('\\n')\n",
    "print('-EU civil servants average salary-')\n",
    "print(df_salary.head())\n",
    "print('\\n')\n",
    "print('-EU civil servants average number of employees-')\n",
    "print(df_number.head())"
   ],
   "metadata": {
    "collapsed": false,
    "pycharm": {
     "name": "#%%\n"
    }
   }
  },
  {
   "cell_type": "code",
   "execution_count": 48,
   "outputs": [],
   "source": [
    "# drop the median column from df_income\n",
    "df_income.drop('value_median', axis=1, inplace=True)"
   ],
   "metadata": {
    "collapsed": false,
    "pycharm": {
     "name": "#%%\n"
    }
   }
  },
  {
   "cell_type": "code",
   "execution_count": 49,
   "outputs": [],
   "source": [
    "# group column in df_income to reflect average per year\n",
    "df_income = df_income.groupby(['time', 'geo'], as_index=False)['value_mean'].mean()"
   ],
   "metadata": {
    "collapsed": false,
    "pycharm": {
     "name": "#%%\n"
    }
   }
  },
  {
   "cell_type": "code",
   "execution_count": 50,
   "outputs": [],
   "source": [
    "# join the tables\n",
    "df_first = pd.merge(df_income, df_salary, on =['time', 'geo'])\n",
    "df = pd.merge(df_first, df_number, on =['time', 'geo'])"
   ],
   "metadata": {
    "collapsed": false,
    "pycharm": {
     "name": "#%%\n"
    }
   }
  },
  {
   "cell_type": "code",
   "execution_count": 51,
   "outputs": [
    {
     "data": {
      "text/plain": "     time          geo    value_mean  value_x   value_y\n0    2014      Austria  28048.939394   2613.0   20566.0\n1    2014      Belgium  24173.848485   2647.7   31297.0\n2    2014     Bulgaria   4058.848485    547.4   34718.0\n3    2014      Croatia   5947.666667      0.0   11537.0\n4    2014       Cyprus  19982.515152   2152.8    8992.0\n..    ...          ...           ...      ...       ...\n204  2021  Netherlands  31003.606061   2927.0  135437.0\n205  2021      Romania   5534.636364    907.0     436.0\n206  2021     Slovenia  16777.757576   1726.0   20428.0\n207  2021        Spain  19459.393939   2909.0   37685.0\n208  2021       Sweden  29611.545455   3080.0   69256.0\n\n[209 rows x 5 columns]",
      "text/html": "<div>\n<style scoped>\n    .dataframe tbody tr th:only-of-type {\n        vertical-align: middle;\n    }\n\n    .dataframe tbody tr th {\n        vertical-align: top;\n    }\n\n    .dataframe thead th {\n        text-align: right;\n    }\n</style>\n<table border=\"1\" class=\"dataframe\">\n  <thead>\n    <tr style=\"text-align: right;\">\n      <th></th>\n      <th>time</th>\n      <th>geo</th>\n      <th>value_mean</th>\n      <th>value_x</th>\n      <th>value_y</th>\n    </tr>\n  </thead>\n  <tbody>\n    <tr>\n      <th>0</th>\n      <td>2014</td>\n      <td>Austria</td>\n      <td>28048.939394</td>\n      <td>2613.0</td>\n      <td>20566.0</td>\n    </tr>\n    <tr>\n      <th>1</th>\n      <td>2014</td>\n      <td>Belgium</td>\n      <td>24173.848485</td>\n      <td>2647.7</td>\n      <td>31297.0</td>\n    </tr>\n    <tr>\n      <th>2</th>\n      <td>2014</td>\n      <td>Bulgaria</td>\n      <td>4058.848485</td>\n      <td>547.4</td>\n      <td>34718.0</td>\n    </tr>\n    <tr>\n      <th>3</th>\n      <td>2014</td>\n      <td>Croatia</td>\n      <td>5947.666667</td>\n      <td>0.0</td>\n      <td>11537.0</td>\n    </tr>\n    <tr>\n      <th>4</th>\n      <td>2014</td>\n      <td>Cyprus</td>\n      <td>19982.515152</td>\n      <td>2152.8</td>\n      <td>8992.0</td>\n    </tr>\n    <tr>\n      <th>...</th>\n      <td>...</td>\n      <td>...</td>\n      <td>...</td>\n      <td>...</td>\n      <td>...</td>\n    </tr>\n    <tr>\n      <th>204</th>\n      <td>2021</td>\n      <td>Netherlands</td>\n      <td>31003.606061</td>\n      <td>2927.0</td>\n      <td>135437.0</td>\n    </tr>\n    <tr>\n      <th>205</th>\n      <td>2021</td>\n      <td>Romania</td>\n      <td>5534.636364</td>\n      <td>907.0</td>\n      <td>436.0</td>\n    </tr>\n    <tr>\n      <th>206</th>\n      <td>2021</td>\n      <td>Slovenia</td>\n      <td>16777.757576</td>\n      <td>1726.0</td>\n      <td>20428.0</td>\n    </tr>\n    <tr>\n      <th>207</th>\n      <td>2021</td>\n      <td>Spain</td>\n      <td>19459.393939</td>\n      <td>2909.0</td>\n      <td>37685.0</td>\n    </tr>\n    <tr>\n      <th>208</th>\n      <td>2021</td>\n      <td>Sweden</td>\n      <td>29611.545455</td>\n      <td>3080.0</td>\n      <td>69256.0</td>\n    </tr>\n  </tbody>\n</table>\n<p>209 rows × 5 columns</p>\n</div>"
     },
     "execution_count": 51,
     "metadata": {},
     "output_type": "execute_result"
    }
   ],
   "source": [
    "df"
   ],
   "metadata": {
    "collapsed": false,
    "pycharm": {
     "name": "#%%\n"
    }
   }
  },
  {
   "cell_type": "code",
   "execution_count": 51,
   "outputs": [],
   "source": [],
   "metadata": {
    "collapsed": false,
    "pycharm": {
     "name": "#%%\n"
    }
   }
  }
 ],
 "metadata": {
  "kernelspec": {
   "display_name": "Python 3",
   "language": "python",
   "name": "python3"
  },
  "language_info": {
   "codemirror_mode": {
    "name": "ipython",
    "version": 2
   },
   "file_extension": ".py",
   "mimetype": "text/x-python",
   "name": "python",
   "nbconvert_exporter": "python",
   "pygments_lexer": "ipython2",
   "version": "2.7.6"
  }
 },
 "nbformat": 4,
 "nbformat_minor": 0
}