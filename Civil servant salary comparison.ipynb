{
 "cells": [
  {
   "cell_type": "markdown",
   "source": [
    "# Project name: Civil Servants Remuneration in the EU\n",
    "## Final analysis\n",
    "### Part 1: Data wrangling"
   ],
   "metadata": {
    "collapsed": false,
    "pycharm": {
     "name": "#%% md\n"
    }
   }
  },
  {
   "cell_type": "code",
   "execution_count": 89,
   "outputs": [],
   "source": [
    "# import relevant libraries\n",
    "import pandas as pd"
   ],
   "metadata": {
    "collapsed": false,
    "pycharm": {
     "name": "#%%\n"
    }
   }
  },
  {
   "cell_type": "code",
   "execution_count": 90,
   "outputs": [],
   "source": [
    "# load the datasets\n",
    "df_income = pd.read_csv('/Volumes/GoogleDrive-114951830941804947409/My Drive/Data analyst/Projects/Civil_Servant_Salary_EU/modified_data/1. Mean and median income in the EU.csv')\n",
    "df_salary = pd.read_csv('/Volumes/GoogleDrive-114951830941804947409/My Drive/Data analyst/Projects/Civil_Servant_Salary_EU/modified_data/2. EU Civil Servant average salary.csv')\n",
    "df_number = pd.read_csv('/Volumes/GoogleDrive-114951830941804947409/My Drive/Data analyst/Projects/Civil_Servant_Salary_EU/modified_data/3. EU_Number of civil servants.csv')"
   ],
   "metadata": {
    "collapsed": false,
    "pycharm": {
     "name": "#%%\n"
    }
   }
  },
  {
   "cell_type": "code",
   "execution_count": 91,
   "outputs": [
    {
     "name": "stdout",
     "output_type": "stream",
     "text": [
      "-EU income data-\n",
      "   time       geo        income\n",
      "0  2012   Austria  26073.727273\n",
      "1  2012   Belgium  22347.909091\n",
      "2  2012  Bulgaria   3363.454545\n",
      "3  2012   Croatia   6114.272727\n",
      "4  2012    Cyprus  21527.363636\n",
      "\n",
      "\n",
      "-EU civil servants average salary-\n",
      "   time       geo   salary\n",
      "0  2014   Belgium  31772.4\n",
      "1  2014  Bulgaria   6568.8\n",
      "2  2014   Czechia  11382.0\n",
      "3  2014   Denmark  30187.2\n",
      "4  2014   Germany  43851.6\n",
      "\n",
      "\n",
      "-EU civil servants average number of employees-\n",
      "   time       geo  employees\n",
      "0  2012   Belgium    34697.0\n",
      "1  2012  Bulgaria    45114.0\n",
      "2  2012   Czechia    19163.0\n",
      "3  2012   Denmark     7832.0\n",
      "4  2012   Germany    13280.0\n"
     ]
    }
   ],
   "source": [
    "# view data\n",
    "print('-EU income data-')\n",
    "print(df_income.head())\n",
    "print('\\n')\n",
    "print('-EU civil servants average salary-')\n",
    "print(df_salary.head())\n",
    "print('\\n')\n",
    "print('-EU civil servants average number of employees-')\n",
    "print(df_number.head())"
   ],
   "metadata": {
    "collapsed": false,
    "pycharm": {
     "name": "#%%\n"
    }
   }
  },
  {
   "cell_type": "code",
   "execution_count": 92,
   "outputs": [],
   "source": [
    "# group column in df_income to reflect average per year\n",
    "df_income = df_income.groupby(['time', 'geo'], as_index=False)['income'].mean()"
   ],
   "metadata": {
    "collapsed": false,
    "pycharm": {
     "name": "#%%\n"
    }
   }
  },
  {
   "cell_type": "code",
   "execution_count": 93,
   "outputs": [],
   "source": [
    "# join the tables\n",
    "df_first = pd.merge(df_income, df_salary, on =['time', 'geo'])\n",
    "df = pd.merge(df_first, df_number, on =['time', 'geo'])"
   ],
   "metadata": {
    "collapsed": false,
    "pycharm": {
     "name": "#%%\n"
    }
   }
  },
  {
   "cell_type": "code",
   "execution_count": 94,
   "outputs": [
    {
     "data": {
      "text/plain": "     time          geo        income   salary  employees\n0    2014      Austria  28018.454545  31356.0    20566.0\n1    2014      Belgium  24156.909091  31772.4    31297.0\n2    2014     Bulgaria   4052.909091   6568.8    34718.0\n3    2014      Croatia   5940.636364      0.0    11537.0\n4    2014       Cyprus  19964.454545  25833.6     8992.0\n..    ...          ...           ...      ...        ...\n204  2021  Netherlands  30993.000000  35124.0   135437.0\n205  2021      Romania   5526.818182  10884.0      436.0\n206  2021     Slovenia  16765.454545  20712.0    20428.0\n207  2021        Spain  19446.272727  34908.0    37685.0\n208  2021       Sweden  29594.090909  36960.0    69256.0\n\n[209 rows x 5 columns]",
      "text/html": "<div>\n<style scoped>\n    .dataframe tbody tr th:only-of-type {\n        vertical-align: middle;\n    }\n\n    .dataframe tbody tr th {\n        vertical-align: top;\n    }\n\n    .dataframe thead th {\n        text-align: right;\n    }\n</style>\n<table border=\"1\" class=\"dataframe\">\n  <thead>\n    <tr style=\"text-align: right;\">\n      <th></th>\n      <th>time</th>\n      <th>geo</th>\n      <th>income</th>\n      <th>salary</th>\n      <th>employees</th>\n    </tr>\n  </thead>\n  <tbody>\n    <tr>\n      <th>0</th>\n      <td>2014</td>\n      <td>Austria</td>\n      <td>28018.454545</td>\n      <td>31356.0</td>\n      <td>20566.0</td>\n    </tr>\n    <tr>\n      <th>1</th>\n      <td>2014</td>\n      <td>Belgium</td>\n      <td>24156.909091</td>\n      <td>31772.4</td>\n      <td>31297.0</td>\n    </tr>\n    <tr>\n      <th>2</th>\n      <td>2014</td>\n      <td>Bulgaria</td>\n      <td>4052.909091</td>\n      <td>6568.8</td>\n      <td>34718.0</td>\n    </tr>\n    <tr>\n      <th>3</th>\n      <td>2014</td>\n      <td>Croatia</td>\n      <td>5940.636364</td>\n      <td>0.0</td>\n      <td>11537.0</td>\n    </tr>\n    <tr>\n      <th>4</th>\n      <td>2014</td>\n      <td>Cyprus</td>\n      <td>19964.454545</td>\n      <td>25833.6</td>\n      <td>8992.0</td>\n    </tr>\n    <tr>\n      <th>...</th>\n      <td>...</td>\n      <td>...</td>\n      <td>...</td>\n      <td>...</td>\n      <td>...</td>\n    </tr>\n    <tr>\n      <th>204</th>\n      <td>2021</td>\n      <td>Netherlands</td>\n      <td>30993.000000</td>\n      <td>35124.0</td>\n      <td>135437.0</td>\n    </tr>\n    <tr>\n      <th>205</th>\n      <td>2021</td>\n      <td>Romania</td>\n      <td>5526.818182</td>\n      <td>10884.0</td>\n      <td>436.0</td>\n    </tr>\n    <tr>\n      <th>206</th>\n      <td>2021</td>\n      <td>Slovenia</td>\n      <td>16765.454545</td>\n      <td>20712.0</td>\n      <td>20428.0</td>\n    </tr>\n    <tr>\n      <th>207</th>\n      <td>2021</td>\n      <td>Spain</td>\n      <td>19446.272727</td>\n      <td>34908.0</td>\n      <td>37685.0</td>\n    </tr>\n    <tr>\n      <th>208</th>\n      <td>2021</td>\n      <td>Sweden</td>\n      <td>29594.090909</td>\n      <td>36960.0</td>\n      <td>69256.0</td>\n    </tr>\n  </tbody>\n</table>\n<p>209 rows × 5 columns</p>\n</div>"
     },
     "execution_count": 94,
     "metadata": {},
     "output_type": "execute_result"
    }
   ],
   "source": [
    "df"
   ],
   "metadata": {
    "collapsed": false,
    "pycharm": {
     "name": "#%%\n"
    }
   }
  },
  {
   "cell_type": "code",
   "execution_count": 94,
   "outputs": [],
   "source": [],
   "metadata": {
    "collapsed": false,
    "pycharm": {
     "name": "#%%\n"
    }
   }
  }
 ],
 "metadata": {
  "kernelspec": {
   "display_name": "Python 3",
   "language": "python",
   "name": "python3"
  },
  "language_info": {
   "codemirror_mode": {
    "name": "ipython",
    "version": 2
   },
   "file_extension": ".py",
   "mimetype": "text/x-python",
   "name": "python",
   "nbconvert_exporter": "python",
   "pygments_lexer": "ipython2",
   "version": "2.7.6"
  }
 },
 "nbformat": 4,
 "nbformat_minor": 0
}