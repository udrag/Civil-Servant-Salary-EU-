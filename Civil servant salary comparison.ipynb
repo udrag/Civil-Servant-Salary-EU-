{
 "cells": [
  {
   "cell_type": "markdown",
   "source": [
    "# Project name: Civil Servants Remuneration in the EU\n",
    "## Final analysis\n",
    "### Part 1: Data wrangling"
   ],
   "metadata": {
    "collapsed": false,
    "pycharm": {
     "name": "#%% md\n"
    }
   }
  },
  {
   "cell_type": "code",
   "execution_count": 23,
   "outputs": [],
   "source": [
    "# import relevant libraries\n",
    "import pandas as pd"
   ],
   "metadata": {
    "collapsed": false,
    "pycharm": {
     "name": "#%%\n"
    }
   }
  },
  {
   "cell_type": "code",
   "execution_count": 24,
   "outputs": [],
   "source": [
    "# load the datasets\n",
    "df_income = pd.read_csv('/Volumes/GoogleDrive-114951830941804947409/My Drive/Data analyst/Projects/Civil_Servant_Salary_EU/modified_data/1. Mean and median income in the EU.csv')\n",
    "df_salary = pd.read_csv('/Volumes/GoogleDrive-114951830941804947409/My Drive/Data analyst/Projects/Civil_Servant_Salary_EU/modified_data/2. EU Civil Servant average salary.csv')\n",
    "df_number = pd.read_csv('/Volumes/GoogleDrive-114951830941804947409/My Drive/Data analyst/Projects/Civil_Servant_Salary_EU/modified_data/3. EU_Number of civil servants.csv')"
   ],
   "metadata": {
    "collapsed": false,
    "pycharm": {
     "name": "#%%\n"
    }
   }
  },
  {
   "cell_type": "code",
   "execution_count": 25,
   "outputs": [
    {
     "name": "stdout",
     "output_type": "stream",
     "text": [
      "-EU income data-\n",
      "   time      geo    sex         age  value_mean  value_median\n",
      "0  2012  Belgium  Total    18 to 54     23865.0       22750.0\n",
      "1  2012  Belgium  Total    18 to 59     23950.0       22754.0\n",
      "2  2012  Belgium  Total    18 to 64     23716.0       22452.0\n",
      "3  2012  Belgium  Total  18 or over     22365.0       20773.0\n",
      "4  2012  Belgium  Total    20 to 64     23833.0       22514.0\n",
      "\n",
      "\n",
      "-EU civil servants average salary-\n",
      "   time       geo   value\n",
      "0  2014   Belgium  2647.7\n",
      "1  2014  Bulgaria   547.4\n",
      "2  2014   Czechia   948.5\n",
      "3  2014   Denmark  2515.6\n",
      "4  2014   Germany  3654.3\n",
      "\n",
      "\n",
      "-EU civil servants average number of employees-\n",
      "   time       geo    value\n",
      "0  2012   Belgium  34697.0\n",
      "1  2012  Bulgaria  45114.0\n",
      "2  2012   Czechia  19163.0\n",
      "3  2012   Denmark   7832.0\n",
      "4  2012   Germany  13280.0\n"
     ]
    }
   ],
   "source": [
    "# view data\n",
    "print('-EU income data-')\n",
    "print(df_income.head())\n",
    "print('\\n')\n",
    "print('-EU civil servants average salary-')\n",
    "print(df_salary.head())\n",
    "print('\\n')\n",
    "print('-EU civil servants average number of employees-')\n",
    "print(df_number.head())"
   ],
   "metadata": {
    "collapsed": false,
    "pycharm": {
     "name": "#%%\n"
    }
   }
  },
  {
   "cell_type": "code",
   "execution_count": 26,
   "outputs": [],
   "source": [
    "# drop the median column from df_income\n",
    "df_income.drop('value_median', axis=1, inplace=True)"
   ],
   "metadata": {
    "collapsed": false,
    "pycharm": {
     "name": "#%%\n"
    }
   }
  },
  {
   "cell_type": "code",
   "execution_count": 27,
   "outputs": [],
   "source": [
    "# group column in df_income to reflect average per year\n",
    "df_income = df_income.groupby(['time', 'geo'], as_index=False)['value_mean'].mean()"
   ],
   "metadata": {
    "collapsed": false,
    "pycharm": {
     "name": "#%%\n"
    }
   }
  },
  {
   "cell_type": "code",
   "execution_count": 28,
   "outputs": [],
   "source": [
    "# join the tables\n"
   ],
   "metadata": {
    "collapsed": false,
    "pycharm": {
     "name": "#%%\n"
    }
   }
  }
 ],
 "metadata": {
  "kernelspec": {
   "display_name": "Python 3",
   "language": "python",
   "name": "python3"
  },
  "language_info": {
   "codemirror_mode": {
    "name": "ipython",
    "version": 2
   },
   "file_extension": ".py",
   "mimetype": "text/x-python",
   "name": "python",
   "nbconvert_exporter": "python",
   "pygments_lexer": "ipython2",
   "version": "2.7.6"
  }
 },
 "nbformat": 4,
 "nbformat_minor": 0
}